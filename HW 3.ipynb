{
 "cells": [
  {
   "cell_type": "code",
   "execution_count": 1,
   "metadata": {},
   "outputs": [],
   "source": [
    "import numpy as np\n",
    "import matplotlib.pyplot as plt"
   ]
  },
  {
   "cell_type": "markdown",
   "metadata": {},
   "source": [
    "# Problem 1) QR Decomposition"
   ]
  },
  {
   "cell_type": "code",
   "execution_count": 242,
   "metadata": {},
   "outputs": [],
   "source": [
    "#Create matrix\n",
    "m,n = 50,50\n",
    "A = np.random.rand(m,n)"
   ]
  },
  {
   "cell_type": "code",
   "execution_count": 231,
   "metadata": {},
   "outputs": [],
   "source": [
    "#Define a function to check work (Just for my use debugging)\n",
    "def checkQR(A,Q,R):  \n",
    "    #Calculate norms and inner products of Q columns\n",
    "    normal,orthogonal=[],[]\n",
    "    for i in range(m):\n",
    "        normal.append(np.linalg.norm(Q[:,i])) #Q is normal if norm = 1\n",
    "        for j in range(i+1,m):\n",
    "            orthogonal.append(Q[:,j].T @ Q[:,i]) #Orthogonal if inner product of each column is 0\n",
    "    \n",
    "    #Is Q normal?\n",
    "    if np.all(np.round(normal,10)==1):\n",
    "        print('Q is normal')\n",
    "    else: \n",
    "        print('Q is not normal')\n",
    "        \n",
    "    #Is Q orthogonal?\n",
    "    if np.all(np.round(orthogonal,10) == 0): \n",
    "        print('Q is orthogonal')\n",
    "    else:\n",
    "        print('Q is not orthogonal')\n",
    "    \n",
    "    #Does A = QR?\n",
    "    if np.allclose(Q @ R , A):\n",
    "        print('A = QR')\n",
    "    else:\n",
    "        print('A != QR')"
   ]
  },
  {
   "cell_type": "code",
   "execution_count": 246,
   "metadata": {},
   "outputs": [
    {
     "name": "stdout",
     "output_type": "stream",
     "text": [
      "Modified Gram Schmidt: \n",
      "norm(A-QR) = 16.1085143117375\n"
     ]
    },
    {
     "data": {
      "text/plain": [
       "array([[-3.86337453e+00,  5.55111512e-17, -5.55111512e-17, ...,\n",
       "        -2.77555756e-17,  2.60208521e-18,  1.04083409e-17],\n",
       "       [-0.00000000e+00, -2.77284049e+00,  5.55111512e-17, ...,\n",
       "         1.90819582e-17, -5.20417043e-18, -3.46944695e-18],\n",
       "       [-0.00000000e+00, -0.00000000e+00, -2.19394818e+00, ...,\n",
       "         3.46944695e-18, -5.20417043e-18, -6.93889390e-18],\n",
       "       ...,\n",
       "       [-0.00000000e+00, -0.00000000e+00, -0.00000000e+00, ...,\n",
       "        -5.27673241e-01, -5.20417043e-18, -4.85722573e-17],\n",
       "       [-0.00000000e+00, -0.00000000e+00, -0.00000000e+00, ...,\n",
       "        -0.00000000e+00, -1.33993917e-01, -5.55111512e-17],\n",
       "       [-0.00000000e+00, -0.00000000e+00, -0.00000000e+00, ...,\n",
       "        -0.00000000e+00, -0.00000000e+00, -6.45086892e-01]])"
      ]
     },
     "execution_count": 246,
     "metadata": {},
     "output_type": "execute_result"
    }
   ],
   "source": [
    "#QR decomposition via Modified Gram Schmidt (MGS)\n",
    "def MGS(A):\n",
    "    m,n = A.shape\n",
    "    Q=np.eye(m,n) #initialize Q matrix\n",
    "    R=np.eye(m,n)\n",
    "    X = A\n",
    "    for j in range(n):\n",
    "        vj = X[:,j]\n",
    "        rjj=np.linalg.norm(vj)\n",
    "        R[j,j]=rjj\n",
    "        qj = vj / rjj\n",
    "        Q[:,j] = qj #update Q matrix\n",
    "        for k in range(j+1,n):\n",
    "            vk = X[:,k]\n",
    "            rjk=qj.T@vk\n",
    "            R[j,k]=rjk\n",
    "            vk = vk - rjk * qj\n",
    "            X[:,k] = vk\n",
    "    Q=Q.T\n",
    "    R = -R\n",
    "    \n",
    "    return Q, R\n",
    "\n",
    "Q,R = MGS(A)\n",
    "\n",
    "#check error\n",
    "print('Modified Gram Schmidt: \\nnorm(A-QR) =',np.linalg.norm(A-Q@R))\n",
    "\n",
    "R"
   ]
  },
  {
   "cell_type": "code",
   "execution_count": 238,
   "metadata": {},
   "outputs": [
    {
     "name": "stdout",
     "output_type": "stream",
     "text": [
      "Householder method (adapted from qrfactor.m): \n",
      "norm(A-QR) = 13.795023371888176\n"
     ]
    }
   ],
   "source": [
    "def householderQR(A1): #adapted for python from the qrfactor.m matlab code on website\n",
    "    # [m,n] = size(A);\n",
    "    # Q=eye(m);\n",
    "    X = A1.copy()\n",
    "    m,n = A1.shape\n",
    "    Q = np.eye(m)\n",
    "\n",
    " \n",
    "    # for k = 1:n\n",
    "    #     % Find the HH reflector\n",
    "    #     z = A(k:m,k);\n",
    "    #     v = [ -sign(z(1))*norm(z) - z(1); -z(2:end) ];\n",
    "    #     v = v / sqrt(v'*v);   % remove v'*v in den\n",
    "    for k in range(n):\n",
    "        z = X[k:m,k]\n",
    "        v = np.insert(-z[1:],0,-np.sign(z[0])*np.linalg.norm(z) - z[0])\n",
    "        v = v / np.sqrt(v.T @ v)\n",
    "\n",
    "    #     % Apply the HH reflection to each column of A and Q\n",
    "    #     for j = 1:n\n",
    "    #         A(k:m,j) = A(k:m,j) - v*( 2*(v'*A(k:m,j)) );\n",
    "    #     end\n",
    "\n",
    "        for j in range(n):\n",
    "            X[k:m,j] = X[k:m,j] - v*(2*v.T @ X[k:m,j])\n",
    "\n",
    "    #     for j = 1:m\n",
    "    #         Q(k:m,j) = Q(k:m,j) - v*( 2*(v'*Q(k:m,j)) );\n",
    "    #     end\n",
    "        for j in range(m):\n",
    "            Q[k:m,j] = Q[k:m,j] - v*(2*v.T @ Q[k:m,j])    \n",
    "    # end\n",
    "\n",
    "    # Q = Q';\n",
    "    Q = Q.T\n",
    "    # R = triu(A);  % exact triangularity\n",
    "    R = np.triu(A)\n",
    "    \n",
    "    return Q, R\n",
    "\n",
    "Q,R = householderQR(A)\n",
    "\n",
    "#check error\n",
    "print('Householder method (adapted from qrfactor.m): \\nnorm(A-QR) =',np.linalg.norm(A-Q@R))"
   ]
  },
  {
   "cell_type": "code",
   "execution_count": 247,
   "metadata": {},
   "outputs": [
    {
     "name": "stdout",
     "output_type": "stream",
     "text": [
      "Built in numpy QR solver: \n",
      "norm(A-QR) = 4.588368825003289e-15\n"
     ]
    },
    {
     "data": {
      "text/plain": [
       "array([[-3.86337453e+00,  0.00000000e+00, -3.46944695e-17, ...,\n",
       "         4.25007252e-17,  1.04083409e-17,  2.77555756e-17],\n",
       "       [ 0.00000000e+00,  2.77284049e+00,  4.16333634e-17, ...,\n",
       "         0.00000000e+00,  5.20417043e-18,  0.00000000e+00],\n",
       "       [ 0.00000000e+00,  0.00000000e+00,  2.19394818e+00, ...,\n",
       "         2.08166817e-17,  0.00000000e+00, -3.46944695e-18],\n",
       "       ...,\n",
       "       [ 0.00000000e+00,  0.00000000e+00,  0.00000000e+00, ...,\n",
       "        -5.27673241e-01,  2.08166817e-17, -1.11022302e-16],\n",
       "       [ 0.00000000e+00,  0.00000000e+00,  0.00000000e+00, ...,\n",
       "         0.00000000e+00,  1.33993917e-01,  1.11022302e-16],\n",
       "       [ 0.00000000e+00,  0.00000000e+00,  0.00000000e+00, ...,\n",
       "         0.00000000e+00,  0.00000000e+00, -6.45086892e-01]])"
      ]
     },
     "execution_count": 247,
     "metadata": {},
     "output_type": "execute_result"
    }
   ],
   "source": [
    "#Built in numpy QR solver function:\n",
    "Q, R = np.linalg.qr(A)\n",
    "\n",
    "#check error\n",
    "print('Built in numpy QR solver: \\nnorm(A-QR) =',np.linalg.norm(A-Q@R))\n",
    "\n",
    "R"
   ]
  },
  {
   "cell_type": "markdown",
   "metadata": {},
   "source": [
    "# Problem 2)"
   ]
  },
  {
   "cell_type": "code",
   "execution_count": 3,
   "metadata": {},
   "outputs": [
    {
     "data": {
      "image/png": "[encoded data removed]",
      "text/plain": [
       "<Figure size 432x288 with 1 Axes>"
      ]
     },
     "metadata": {
      "needs_background": "light"
     },
     "output_type": "display_data"
    }
   ],
   "source": [
    "def p1(x):\n",
    "    return (x-2)**9\n",
    "def p2(x):\n",
    "    return x**9 - 18*x**8 + 144*x**7 -672*x**6 + 2016*x**5 - 4032*x**4 + 5376*x**3 - 4608*x**2 + 2304*x - 512\n",
    "\n",
    "x=np.arange(1.920,2.080,0.001)\n",
    "plt.plot(x,p1(x),label='p(x) condensed form')\n",
    "plt.plot(x,p2(x),label='p(x) expanded form')\n",
    "plt.legend()\n",
    "plt.show()"
   ]
  },
  {
   "cell_type": "markdown",
   "metadata": {},
   "source": [
    "# Problem 3)"
   ]
  },
  {
   "cell_type": "code",
   "execution_count": 240,
   "metadata": {},
   "outputs": [
    {
     "name": "stdout",
     "output_type": "stream",
     "text": [
      "m = 20, n = 10, K = 13.674040139722619\n",
      "m = 400, n = 200, K = 82.05693568090162\n",
      "m = 1000, n = 600, K = 188.80767766995373\n",
      "m = 2000, n = 1250, K = 285.90102284086606\n",
      "m = 5000, n = 2500, K = 295.7537282259971\n",
      "Conditioning number increases as the matrix size increases.\n"
     ]
    }
   ],
   "source": [
    "# Part a)\n",
    "# A is an m by n matrix, where m > n. Study the condition number as m & n increase.\n",
    "m=[20,400,1000,2000,5000]\n",
    "n=[10,200,600,1250,2500]\n",
    "\n",
    "for i in range(len(m)):\n",
    "    A = np.random.rand(m[i],n[i])\n",
    "    K = np.linalg.cond(A)\n",
    "    print('m = {}, n = {}, K = {}'.format(m[i],n[i],K))\n",
    "\n",
    "print('Conditioning number increases as the matrix size increases.')"
   ]
  },
  {
   "cell_type": "code",
   "execution_count": 27,
   "metadata": {
    "scrolled": false
   },
   "outputs": [
    {
     "name": "stdout",
     "output_type": "stream",
     "text": [
      "Condition number = 3.2444609025932612e+16\n",
      "Determinant = 5.737960033590644e-19\n"
     ]
    }
   ],
   "source": [
    "# Part b)\n",
    "m=40\n",
    "n=20\n",
    "A = np.random.rand(m,n)\n",
    "A = np.concatenate((A,A[:,0].reshape(-1,1)),axis=1)\n",
    "print('Condition number =', np.linalg.cond(A))\n",
    "print('Determinant =', np.linalg.det(A[:n+1,:n+1])) #This is what Prof. Kutz told us to do in class, even though it's not what the assignment says."
   ]
  },
  {
   "cell_type": "code",
   "execution_count": 67,
   "metadata": {
    "scrolled": true
   },
   "outputs": [
    {
     "data": {
      "image/png": "[encoded data removed]",
      "text/plain": [
       "<Figure size 432x288 with 1 Axes>"
      ]
     },
     "metadata": {
      "needs_background": "light"
     },
     "output_type": "display_data"
    }
   ],
   "source": [
    "#Part c)\n",
    "#add noise then calculate condition number\n",
    "(m,n) = (40,20)\n",
    "A = np.random.rand(m,n)\n",
    "a = A[:,0].reshape(-1,1) #first col of A\n",
    "\n",
    "x = np.linspace(0,1,100)\n",
    "K=[]\n",
    "for epsilon in x:\n",
    "    a = a + epsilon*np.random.rand(A.shape[0],1)\n",
    "    A = np.concatenate((A,a),axis=1)\n",
    "    K.append(np.linalg.cond(A))\n",
    "\n",
    "plt.plot(x,K)\n",
    "plt.ylabel('Condition Number')\n",
    "plt.xlabel('Noise (\\u03B5)')\n",
    "plt.yscale('log')\n",
    "plt.show()"
   ]
  }
 ],
 "metadata": {
  "kernelspec": {
   "display_name": "Python 3",
   "language": "python",
   "name": "python3"
  },
  "language_info": {
   "codemirror_mode": {
    "name": "ipython",
    "version": 3
   },
   "file_extension": ".py",
   "mimetype": "text/x-python",
   "name": "python",
   "nbconvert_exporter": "python",
   "pygments_lexer": "ipython3",
   "version": "3.7.4"
  }
 },
 "nbformat": 4,
 "nbformat_minor": 2
}
